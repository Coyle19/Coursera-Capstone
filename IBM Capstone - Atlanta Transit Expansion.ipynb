{
    "nbformat_minor": 1, 
    "cells": [
        {
            "source": "# Atlanta, GA, USA Transit Expansion\n### Determining the best neighborhoods for transit expansion\n##### By Seth Rikard", 
            "cell_type": "markdown", 
            "metadata": {
                "collapsed": true
            }
        }, 
        {
            "source": "## Introduction:\n### Background: Identifying Best Neighborhoods for Transit Expansion\nThe Atlanta, GA region of the United States has experienced rapid growth over the past 30 years. Initially much of the population and job growth occurred in communities surrounding the center of the city; however, in the past 15 years the City of Atlanta has experienced a drastic increase in its population and job market. \n\nIn the 2010 United States Census, the city had a population of 423,000 residents. The US estimates that by 2015, the population had grown to 463,000. This represents a nearly 9% jump. In 2019, the US Census estimates that the population is nearly 500,000. This not only represents a 15% increase in the population over the past 10 years, it also means an exponentially increasing population rate. \n\nIn response, the City of Atlanta launched a $2.5 billion dollar planned expansion of the inner-city transit system. The vast major of this money will be spent building out the light-rail transit system with tie-ins to the current regional heavy-rail transit system. \n", 
            "cell_type": "markdown", 
            "metadata": {}
        }, 
        {
            "source": "## Questions:\n\nDespite the investment, the city\u2019s transit expansion cannot touch every city neighborhood or community. As such, how can the city use data to determine which neighborhood planning districts to prioritize? \n\n1. What ligh rail transit systems have the heighest usage?\n2. In these cities, what are the population and job densities?\n3. In Atlanta, what neighborhood districts (NPUs) have the highest population density?\n4. What NPUs have the greatest job density?\n5. What NPUs have the most neighborhood venues (restauratnes, cafes, breweries, shops, etc.)?\n\n## Data:\n\n1. Wikipedia North America ligh-rail transit ridership: https://en.wikipedia.org/wiki/List_of_North_American_light_rail_systems_by_ridership\n2. Us Census Data: https://data.census.gov/cedsci/all?q=Atlanta,%20GA&hidePreview=false&table=DP05&tid=ACSDP1Y2017.DP05&g=1600000US1304000&vintage=2017&layer=place&cid=DP05_0001E&lastDisplayedRow=15 /br\n3. Atlanta Regional Commission Data: http://opendata.atlantaregional.com/ /br\n4. City of Atlanta Data By NPU: https://neighborhoodnexus.org/maps-and-data/maps/city-of-atlanta-neighborhood-planning-units-npu/ /br\n5. FourSquare:https://foursquare.com/\n\n## Methodology:\n\nFirst, I will scrape the ridership data on existing light rail systems in North America. I will combine this information with the population and job density of their respective cities, seeking to determine a correlation between ridership and population density. I will select the top-five busiest systems and use the average population and job density per square mile as a baseline for an analysis of Atlanta neighborhoods.\n\nSecond, I will scape the City of Atlanta data for the following:\n1. population per NPU\n2. job density per NPU\n3. population growth trend per NPU\n4. job growth trend per NPU\n\nI will look to build a profile of each NPU, determining which NPU's meet the baseline established through the analysis of existing light rail systems. \n\nThird, I will conduct an analysis of number of venues per Atlanta NPU and determine how this list corresponds to the population/job density analysis.\n\nFinally, I will make a recommendation for which neighborhood districs (or NPUs) should receive the additional funding for the expansion of the light-rail transit system.\n\n\n\n", 
            "cell_type": "markdown", 
            "metadata": {}
        }, 
        {
            "execution_count": null, 
            "cell_type": "code", 
            "metadata": {}, 
            "outputs": [], 
            "source": ""
        }
    ], 
    "metadata": {
        "kernelspec": {
            "display_name": "Python 3.6", 
            "name": "python3", 
            "language": "python"
        }, 
        "language_info": {
            "mimetype": "text/x-python", 
            "nbconvert_exporter": "python", 
            "version": "3.6.8", 
            "name": "python", 
            "file_extension": ".py", 
            "pygments_lexer": "ipython3", 
            "codemirror_mode": {
                "version": 3, 
                "name": "ipython"
            }
        }
    }, 
    "nbformat": 4
}